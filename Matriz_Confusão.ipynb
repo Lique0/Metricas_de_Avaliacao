{
  "nbformat": 4,
  "nbformat_minor": 0,
  "metadata": {
    "colab": {
      "provenance": [],
      "authorship_tag": "ABX9TyNBr25slxTjuiRHZ/NNToDB",
      "include_colab_link": true
    },
    "kernelspec": {
      "name": "python3",
      "display_name": "Python 3"
    },
    "language_info": {
      "name": "python"
    }
  },
  "cells": [
    {
      "cell_type": "markdown",
      "metadata": {
        "id": "view-in-github",
        "colab_type": "text"
      },
      "source": [
        "<a href=\"https://colab.research.google.com/github/Lique0/Metricas_de_Avaliacao/blob/main/Matriz_Confus%C3%A3o.ipynb\" target=\"_parent\"><img src=\"https://colab.research.google.com/assets/colab-badge.svg\" alt=\"Open In Colab\"/></a>"
      ]
    },
    {
      "cell_type": "markdown",
      "source": [
        "Como base para a execução do projeto, foi utilizada a contribuição do usuário queirozfcom disponivel no Github (que pode ser acessada pelo link apresentado a seguir).\n",
        "\n",
        "https://github.com/queirozfcom/python-sandbox/blob/master/python3/notebooks/visualizing-machine-learning-models-post/confusion-matrix.ipynb\n",
        "\n",
        "O modelo foi aplicado na criação da matriz de confusão utilizada neste projeto."
      ],
      "metadata": {
        "id": "IcvxKn_S0TvF"
      }
    },
    {
      "cell_type": "markdown",
      "source": [
        "A seguir serão apresentadas as principais bibliotecas utilizadas para realização do projeto."
      ],
      "metadata": {
        "id": "Q2PPjpnHCaFk"
      }
    },
    {
      "cell_type": "code",
      "execution_count": 72,
      "metadata": {
        "id": "IblL6UBF0Lyf"
      },
      "outputs": [],
      "source": [
        "import numpy as np\n",
        "import itertools\n",
        "import sklearn\n",
        "import matplotlib\n",
        "\n",
        "import matplotlib.pyplot as plt\n",
        "\n",
        "from sklearn.datasets import make_classification\n",
        "from sklearn.model_selection import train_test_split\n",
        "from sklearn.metrics import RocCurveDisplay\n",
        "from sklearn.metrics import auc\n",
        "from sklearn.metrics import confusion_matrix\n",
        "from sklearn.metrics import classification_report\n",
        "from sklearn.metrics import accuracy_score #acuracia\n",
        "from sklearn.metrics import precision_score #precision\n",
        "from sklearn.metrics import recall_score #recall\n",
        "from sklearn.metrics import f1_score #f1-score\n",
        "from sklearn.metrics import roc_auc_score #area sob curva roc\n",
        "from sklearn.metrics import roc_curve, auc #curva roc\n",
        "from sklearn.preprocessing import label_binarize\n",
        "\n",
        "from matplotlib import pyplot\n",
        "\n",
        "from xgboost import XGBClassifier"
      ]
    },
    {
      "cell_type": "code",
      "source": [
        "sklearn.__version__, matplotlib.__version__, np.__version__"
      ],
      "metadata": {
        "colab": {
          "base_uri": "https://localhost:8080/"
        },
        "id": "M3XSRbZJ0Yqf",
        "outputId": "41f98780-2f73-45ce-fe4e-b260c9fe6249"
      },
      "execution_count": 73,
      "outputs": [
        {
          "output_type": "execute_result",
          "data": {
            "text/plain": [
              "('1.6.0', '3.8.0', '1.26.4')"
            ]
          },
          "metadata": {},
          "execution_count": 73
        }
      ]
    },
    {
      "cell_type": "markdown",
      "source": [
        "As proximas sessões de códigos apresnetam as linhas de programação para a geração de base de dados aleatórios e a contrução da matriz de confusão."
      ],
      "metadata": {
        "id": "KNWbJjat0ySm"
      }
    },
    {
      "cell_type": "code",
      "source": [
        "# using random data for this exaple\n",
        "X, y = make_classification(\n",
        "    n_samples=10000,\n",
        "    n_features=25,\n",
        "    n_informative=10,\n",
        "    n_redundant=0,\n",
        "    n_classes=5)\n",
        "\n",
        "class_names = ['class-1','class-2','class-3','class-4','class-5']\n",
        "\n",
        "X_train, X_test, y_train, y_test = train_test_split(X, y, test_size=0.33)\n",
        "\n",
        "clf = XGBClassifier()\n",
        "clf.fit(X_train,y_train)\n",
        "\n",
        "y_pred = clf.predict(X_test)"
      ],
      "metadata": {
        "id": "DCIIPCX50zL1"
      },
      "execution_count": 74,
      "outputs": []
    },
    {
      "cell_type": "code",
      "source": [
        "matrix = confusion_matrix(y_test,y_pred)\n",
        "\n",
        "plt.clf()\n",
        "\n",
        "# place labels at the top\n",
        "plt.gca().xaxis.tick_top()\n",
        "plt.gca().xaxis.set_label_position('top')\n",
        "\n",
        "# plot the matrix per se\n",
        "plt.imshow(matrix, interpolation='nearest', cmap=plt.cm.Blues)\n",
        "\n",
        "# plot colorbar to the right\n",
        "plt.colorbar()\n",
        "\n",
        "fmt = 'd'\n",
        "\n",
        "# write the number of predictions in each bucket\n",
        "thresh = matrix.max() / 2.\n",
        "for i, j in itertools.product(range(matrix.shape[0]), range(matrix.shape[1])):\n",
        "\n",
        "    # if background is dark, use a white number, and vice-versa\n",
        "    plt.text(j, i, format(matrix[i, j], fmt),\n",
        "         horizontalalignment=\"center\",\n",
        "         color=\"white\" if matrix[i, j] > thresh else \"black\")\n",
        "\n",
        "tick_marks = np.arange(len(class_names))\n",
        "plt.xticks(tick_marks, class_names, rotation=45)\n",
        "plt.yticks(tick_marks, class_names)\n",
        "plt.tight_layout()\n",
        "plt.ylabel('True label',size=14)\n",
        "plt.xlabel('Predicted label',size=14)\n",
        "plt.show()"
      ],
      "metadata": {
        "colab": {
          "base_uri": "https://localhost:8080/",
          "height": 507
        },
        "id": "mS14qwmM0_p4",
        "outputId": "5e597c3e-739f-4d60-c513-a54d544aa978"
      },
      "execution_count": 75,
      "outputs": [
        {
          "output_type": "display_data",
          "data": {
            "text/plain": [
              "<Figure size 640x480 with 2 Axes>"
            ],
            "image/png": "[encoded data removed]"
          },
          "metadata": {}
        }
      ]
    },
    {
      "cell_type": "markdown",
      "source": [
        "Serão apresentadas as métricas de análise aplicados aos resultados obtidos nesta matriz confusão, sendo eles:\n",
        "- Acurácia: A acurácia (accuracy ou ACC) é considerada uma das métricas mais simples e importantes, avalia simplesmente o percentual de acertos;\n",
        "- Precisão: Métrica que avalia a quantidade de verdadeiros positivos sobre a soma de todos os valores positivos;\n",
        "- F-score: F–measure, F-score ou score F1 é uma média harmônica calculada com base na precisão e na revocação;\n",
        "- Sensibilidade: Essa métrica avalia a capacidade do método de detectar com sucesso resultados classificados como positivos;\n",
        "- Especificidade: Avalia a capacidade do método de detectar resultados negativos."
      ],
      "metadata": {
        "id": "dAdiSZ08C0Z4"
      }
    },
    {
      "cell_type": "markdown",
      "source": [
        "Acurácia."
      ],
      "metadata": {
        "id": "uJK6bATE2z7v"
      }
    },
    {
      "cell_type": "code",
      "source": [
        "accuracy_score(y_test, y_pred)"
      ],
      "metadata": {
        "colab": {
          "base_uri": "https://localhost:8080/"
        },
        "id": "7FF9hedJ2SAm",
        "outputId": "3611d78e-ec6a-4664-c21f-620cde865ec5"
      },
      "execution_count": 76,
      "outputs": [
        {
          "output_type": "execute_result",
          "data": {
            "text/plain": [
              "0.7836363636363637"
            ]
          },
          "metadata": {},
          "execution_count": 76
        }
      ]
    },
    {
      "cell_type": "markdown",
      "source": [
        "Precisão"
      ],
      "metadata": {
        "id": "82mL3JA546Nf"
      }
    },
    {
      "cell_type": "code",
      "source": [
        "print(precision_score(y_test, y_pred, average='micro'))\n",
        "print(precision_score(y_test, y_pred, average='macro'))\n",
        "print(precision_score(y_test, y_pred, average='weighted'))"
      ],
      "metadata": {
        "colab": {
          "base_uri": "https://localhost:8080/"
        },
        "id": "MOtNc5no5FfR",
        "outputId": "3bab3b3a-9431-4141-86ec-2ab1646a936f"
      },
      "execution_count": 77,
      "outputs": [
        {
          "output_type": "stream",
          "name": "stdout",
          "text": [
            "0.7836363636363637\n",
            "0.7838456364781387\n",
            "0.7839745959107041\n"
          ]
        }
      ]
    },
    {
      "cell_type": "markdown",
      "source": [
        "Recall"
      ],
      "metadata": {
        "id": "EPiJcftx49P6"
      }
    },
    {
      "cell_type": "code",
      "source": [
        "print(recall_score(y_test, y_pred, average='micro'))\n",
        "print(recall_score(y_test, y_pred, average='macro'))\n",
        "print(recall_score(y_test, y_pred, average='weighted'))"
      ],
      "metadata": {
        "colab": {
          "base_uri": "https://localhost:8080/"
        },
        "id": "WHnlMrG2Agid",
        "outputId": "f76ad587-fb91-4a12-ad32-0b0909e4b144"
      },
      "execution_count": 78,
      "outputs": [
        {
          "output_type": "stream",
          "name": "stdout",
          "text": [
            "0.7836363636363637\n",
            "0.7828683272216818\n",
            "0.7836363636363637\n"
          ]
        }
      ]
    },
    {
      "cell_type": "markdown",
      "source": [
        "F-score"
      ],
      "metadata": {
        "id": "g_zbQYxYDIOM"
      }
    },
    {
      "cell_type": "code",
      "source": [
        "print(f1_score(y_test, y_pred, average='micro'))\n",
        "print(f1_score(y_test, y_pred, average='macro'))\n",
        "print(f1_score(y_test, y_pred, average='weighted'))"
      ],
      "metadata": {
        "colab": {
          "base_uri": "https://localhost:8080/"
        },
        "id": "eV64E-f8DIn9",
        "outputId": "6f744eff-1466-42e1-80dd-00b93f3a294c"
      },
      "execution_count": 79,
      "outputs": [
        {
          "output_type": "stream",
          "name": "stdout",
          "text": [
            "0.7836363636363637\n",
            "0.783077455724371\n",
            "0.7835262799267289\n"
          ]
        }
      ]
    },
    {
      "cell_type": "markdown",
      "source": [
        "Resultado para as métricas de acordo com as classes\n"
      ],
      "metadata": {
        "id": "3n25pRRJ46vx"
      }
    },
    {
      "cell_type": "code",
      "source": [
        "print(classification_report(y_test, y_pred))"
      ],
      "metadata": {
        "colab": {
          "base_uri": "https://localhost:8080/"
        },
        "id": "8XwTCah0BPUe",
        "outputId": "dde5ff01-5b11-490e-ad49-9f58c0a1c5ad"
      },
      "execution_count": 80,
      "outputs": [
        {
          "output_type": "stream",
          "name": "stdout",
          "text": [
            "              precision    recall  f1-score   support\n",
            "\n",
            "           0       0.76      0.73      0.74       633\n",
            "           1       0.81      0.80      0.81       687\n",
            "           2       0.77      0.80      0.78       679\n",
            "           3       0.81      0.78      0.79       631\n",
            "           4       0.77      0.81      0.79       670\n",
            "\n",
            "    accuracy                           0.78      3300\n",
            "   macro avg       0.78      0.78      0.78      3300\n",
            "weighted avg       0.78      0.78      0.78      3300\n",
            "\n"
          ]
        }
      ]
    },
    {
      "cell_type": "markdown",
      "source": [
        "Área Sob a Curva Roc - AUC"
      ],
      "metadata": {
        "id": "uRUr9zhoFT8W"
      }
    },
    {
      "cell_type": "code",
      "source": [
        "# calculate AUC\n",
        "# Instead of using clf.predict, use clf.predict_proba to get predicted probabilities\n",
        "y_probs = clf.predict_proba(X_test)\n",
        "auc = roc_auc_score(y_test, y_probs, multi_class='ovo')\n",
        "print('AUC: %.3f' % auc)"
      ],
      "metadata": {
        "colab": {
          "base_uri": "https://localhost:8080/"
        },
        "id": "ySmTZgYUFUl1",
        "outputId": "732d70c6-17f3-414f-ae6e-3a927d6ea835"
      },
      "execution_count": 81,
      "outputs": [
        {
          "output_type": "stream",
          "name": "stdout",
          "text": [
            "AUC: 0.953\n"
          ]
        }
      ]
    },
    {
      "cell_type": "markdown",
      "source": [
        "Gráfico da curva ROC (Sensibilidade e especificidade)"
      ],
      "metadata": {
        "id": "w7QWMLZX0I-0"
      }
    },
    {
      "cell_type": "code",
      "source": [
        "# Compute ROC curve and ROC area for each class\n",
        "fpr = dict()\n",
        "tpr = dict()\n",
        "roc_auc = dict()\n",
        "# Define n_classes based on the number of classes in y_probs\n",
        "# Assuming y_probs is the output of predict_proba,\n",
        "# its shape[1] should give you the number of classes.\n",
        "n_classes = y_probs.shape[1]\n",
        "# Binarize the target variable y_test\n",
        "from sklearn.preprocessing import label_binarize\n",
        "y_test_bin = label_binarize(y_test, classes=np.unique(y_test)) # Added this line to binarize y_test\n",
        "\n",
        "for i in range(n_classes):\n",
        "    fpr[i], tpr[i], _ = roc_curve(y_test_bin[:, i], y_probs[:, i])\n",
        "    # Call the auc function from sklearn.metrics (it was previously overwritten)\n",
        "    roc_auc[i] = sklearn.metrics.auc(fpr[i], tpr[i]) # Call sklearn.metrics.auc to avoid using the overwritten variable\n",
        "\n",
        "\n",
        "# Compute micro-average ROC curve and ROC area\n",
        "fpr[\"micro\"], tpr[\"micro\"], _ = roc_curve(y_test_bin.ravel(), y_probs.ravel())\n",
        "# Use sklearn.metrics.auc instead of the overwritten 'auc' variable\n",
        "roc_auc[\"micro\"] = sklearn.metrics.auc(fpr[\"micro\"], tpr[\"micro\"]) # Changed this line\n",
        "\n",
        "# Plot ROC curves for each class (example for class 0)\n",
        "plt.figure()\n",
        "plt.plot(fpr[0], tpr[0], label='ROC curve (area = %0.2f)' % roc_auc[0])\n",
        "plt.plot([0, 1], [0, 1], 'k--')\n",
        "plt.xlim([0.0, 1.0])\n",
        "plt.ylim([0.0, 1.05])\n",
        "plt.xlabel('Specificity')\n",
        "plt.ylabel('Sensibility')\n",
        "plt.title('Receiver operating characteristic example')\n",
        "plt.legend(loc=\"lower right\")\n",
        "plt.show()"
      ],
      "metadata": {
        "colab": {
          "base_uri": "https://localhost:8080/",
          "height": 472
        },
        "id": "0w9I5OO20JwW",
        "outputId": "ea3b76f9-d311-4b73-8a39-8250ea03d9e4"
      },
      "execution_count": 82,
      "outputs": [
        {
          "output_type": "display_data",
          "data": {
            "text/plain": [
              "<Figure size 640x480 with 1 Axes>"
            ],
            "image/png": "[encoded data removed]"
          },
          "metadata": {}
        }
      ]
    }
  ]
}